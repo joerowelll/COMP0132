{
  "nbformat": 4,
  "nbformat_minor": 0,
  "metadata": {
    "colab": {
      "name": "colmap_colab.ipynb",
      "provenance": [],
      "collapsed_sections": [],
      "include_colab_link": true
    },
    "kernelspec": {
      "name": "python3",
      "display_name": "Python 3"
    },
    "accelerator": "GPU"
  },
  "cells": [
    {
      "cell_type": "markdown",
      "metadata": {
        "id": "view-in-github",
        "colab_type": "text"
      },
      "source": [
        "<a href=\"https://colab.research.google.com/github/joerowelll/COMP0132/blob/main/colmap_colab.ipynb\" target=\"_parent\"><img src=\"https://colab.research.google.com/assets/colab-badge.svg\" alt=\"Open In Colab\"/></a>"
      ]
    },
    {
      "cell_type": "markdown",
      "metadata": {
        "id": "SpaQWAQg1VtD"
      },
      "source": [
        "# Installation"
      ]
    },
    {
      "cell_type": "code",
      "metadata": {
        "id": "eGdRYPFIzvFs",
        "colab": {
          "base_uri": "https://localhost:8080/"
        },
        "outputId": "1e708a02-7a71-4dac-b99c-43cdc78d146a"
      },
      "source": [
        "!sudo apt-get install \\\n",
        "    git \\\n",
        "    cmake \\\n",
        "    build-essential \\\n",
        "    libboost-program-options-dev \\\n",
        "    libboost-filesystem-dev \\\n",
        "    libboost-graph-dev \\\n",
        "    libboost-regex-dev \\\n",
        "    libboost-system-dev \\\n",
        "    libboost-test-dev \\\n",
        "    libeigen3-dev \\\n",
        "    libsuitesparse-dev \\\n",
        "    libfreeimage-dev \\\n",
        "    libgoogle-glog-dev \\\n",
        "    libgflags-dev \\\n",
        "    libglew-dev \\\n",
        "    qtbase5-dev \\\n",
        "    libqt5opengl5-dev \\\n",
        "    libcgal-dev \\\n",
        "    libcgal-qt5-dev \\\n",
        "    libmetis-dev\n",
        "!source ~/.bashrc"
      ],
      "execution_count": 1,
      "outputs": [
        {
          "output_type": "stream",
          "name": "stdout",
          "text": [
            "Reading package lists... Done\n",
            "Building dependency tree       \n",
            "Reading state information... Done\n",
            "build-essential is already the newest version (12.4ubuntu1).\n",
            "libboost-filesystem-dev is already the newest version (1.65.1.0ubuntu1).\n",
            "libboost-filesystem-dev set to manually installed.\n",
            "libboost-program-options-dev is already the newest version (1.65.1.0ubuntu1).\n",
            "libboost-program-options-dev set to manually installed.\n",
            "libboost-system-dev is already the newest version (1.65.1.0ubuntu1).\n",
            "libboost-system-dev set to manually installed.\n",
            "libboost-graph-dev is already the newest version (1.65.1.0ubuntu1).\n",
            "libboost-graph-dev set to manually installed.\n",
            "libboost-regex-dev is already the newest version (1.65.1.0ubuntu1).\n",
            "libboost-regex-dev set to manually installed.\n",
            "libboost-test-dev is already the newest version (1.65.1.0ubuntu1).\n",
            "libboost-test-dev set to manually installed.\n",
            "cmake is already the newest version (3.10.2-1ubuntu2.18.04.2).\n",
            "git is already the newest version (1:2.17.1-1ubuntu0.11).\n",
            "qtbase5-dev is already the newest version (5.9.5+dfsg-0ubuntu2.6).\n",
            "qtbase5-dev set to manually installed.\n",
            "The following package was automatically installed and is no longer required:\n",
            "  libnvidia-common-460\n",
            "Use 'sudo apt autoremove' to remove it.\n",
            "The following additional packages will be installed:\n",
            "  libamd2 libbtf1 libcamd2 libccolamd2 libcgal-qt5-13 libcgal13 libcholmod3\n",
            "  libcolamd2 libcxsparse3 libfreeimage3 libgflags2.2 libglew2.0 libgmp-dev\n",
            "  libgmpxx4ldbl libgoogle-glog0v5 libgraphblas1 libjxr0 libklu1 libldl2\n",
            "  libmetis5 libmpfr-dev libqt5opengl5 libqt5svg5 libraw16 librbio2 libspqr2\n",
            "  libsuitesparseconfig5 libumfpack5\n",
            "Suggested packages:\n",
            "  libmpfi-dev libntl-dev libeigen3-doc libmrpt-dev glew-utils gmp-doc\n",
            "  libgmp10-doc libmpfr-doc\n",
            "The following NEW packages will be installed:\n",
            "  libamd2 libbtf1 libcamd2 libccolamd2 libcgal-dev libcgal-qt5-13\n",
            "  libcgal-qt5-dev libcgal13 libcholmod3 libcolamd2 libcxsparse3 libeigen3-dev\n",
            "  libfreeimage-dev libfreeimage3 libgflags-dev libgflags2.2 libglew-dev\n",
            "  libglew2.0 libgmp-dev libgmpxx4ldbl libgoogle-glog-dev libgoogle-glog0v5\n",
            "  libgraphblas1 libjxr0 libklu1 libldl2 libmetis-dev libmetis5 libmpfr-dev\n",
            "  libqt5opengl5 libqt5opengl5-dev libqt5svg5 libraw16 librbio2 libspqr2\n",
            "  libsuitesparse-dev libsuitesparseconfig5 libumfpack5\n",
            "0 upgraded, 38 newly installed, 0 to remove and 45 not upgraded.\n",
            "Need to get 10.5 MB of archives.\n",
            "After this operation, 77.7 MB of additional disk space will be used.\n",
            "Get:1 http://archive.ubuntu.com/ubuntu bionic-updates/main amd64 libqt5svg5 amd64 5.9.5-0ubuntu1.1 [129 kB]\n",
            "Get:2 http://archive.ubuntu.com/ubuntu bionic/main amd64 libsuitesparseconfig5 amd64 1:5.1.2-2 [9,044 B]\n",
            "Get:3 http://archive.ubuntu.com/ubuntu bionic/main amd64 libamd2 amd64 1:5.1.2-2 [19.5 kB]\n",
            "Get:4 http://archive.ubuntu.com/ubuntu bionic/main amd64 libbtf1 amd64 1:5.1.2-2 [10.6 kB]\n",
            "Get:5 http://archive.ubuntu.com/ubuntu bionic/main amd64 libcamd2 amd64 1:5.1.2-2 [20.9 kB]\n",
            "Get:6 http://archive.ubuntu.com/ubuntu bionic/main amd64 libccolamd2 amd64 1:5.1.2-2 [21.7 kB]\n",
            "Get:7 http://archive.ubuntu.com/ubuntu bionic/universe amd64 libcgal13 amd64 4.11-2build1 [275 kB]\n",
            "Get:8 http://archive.ubuntu.com/ubuntu bionic/main amd64 libgmpxx4ldbl amd64 2:6.1.2+dfsg-2 [8,964 B]\n",
            "Get:9 http://archive.ubuntu.com/ubuntu bionic/main amd64 libgmp-dev amd64 2:6.1.2+dfsg-2 [316 kB]\n",
            "Get:10 http://archive.ubuntu.com/ubuntu bionic/main amd64 libmpfr-dev amd64 4.0.1-1 [249 kB]\n",
            "Get:11 http://archive.ubuntu.com/ubuntu bionic/universe amd64 libcgal-dev amd64 4.11-2build1 [4,410 kB]\n",
            "Get:12 http://archive.ubuntu.com/ubuntu bionic-updates/main amd64 libqt5opengl5 amd64 5.9.5+dfsg-0ubuntu2.6 [132 kB]\n",
            "Get:13 http://archive.ubuntu.com/ubuntu bionic/universe amd64 libcgal-qt5-13 amd64 4.11-2build1 [93.9 kB]\n",
            "Get:14 http://archive.ubuntu.com/ubuntu bionic/universe amd64 libcgal-qt5-dev amd64 4.11-2build1 [122 kB]\n",
            "Get:15 http://archive.ubuntu.com/ubuntu bionic/main amd64 libcolamd2 amd64 1:5.1.2-2 [16.2 kB]\n",
            "Get:16 http://archive.ubuntu.com/ubuntu bionic/main amd64 libmetis5 amd64 5.1.0.dfsg-5 [169 kB]\n",
            "Get:17 http://archive.ubuntu.com/ubuntu bionic/main amd64 libcholmod3 amd64 1:5.1.2-2 [300 kB]\n",
            "Get:18 http://archive.ubuntu.com/ubuntu bionic/main amd64 libcxsparse3 amd64 1:5.1.2-2 [63.9 kB]\n",
            "Get:19 http://archive.ubuntu.com/ubuntu bionic/universe amd64 libgflags2.2 amd64 2.2.1-1 [72.4 kB]\n",
            "Get:20 http://archive.ubuntu.com/ubuntu bionic/universe amd64 libgflags-dev amd64 2.2.1-1 [86.1 kB]\n",
            "Get:21 http://archive.ubuntu.com/ubuntu bionic/universe amd64 libglew2.0 amd64 2.0.0-5 [140 kB]\n",
            "Get:22 http://archive.ubuntu.com/ubuntu bionic/universe amd64 libglew-dev amd64 2.0.0-5 [120 kB]\n",
            "Get:23 http://archive.ubuntu.com/ubuntu bionic/universe amd64 libgoogle-glog0v5 amd64 0.3.5-1 [50.5 kB]\n",
            "Get:24 http://archive.ubuntu.com/ubuntu bionic/universe amd64 libgoogle-glog-dev amd64 0.3.5-1 [73.8 kB]\n",
            "Get:25 http://archive.ubuntu.com/ubuntu bionic/main amd64 libgraphblas1 amd64 1:5.1.2-2 [384 kB]\n",
            "Get:26 http://archive.ubuntu.com/ubuntu bionic/universe amd64 libjxr0 amd64 1.1-6build1 [158 kB]\n",
            "Get:27 http://archive.ubuntu.com/ubuntu bionic/main amd64 libklu1 amd64 1:5.1.2-2 [69.3 kB]\n",
            "Get:28 http://archive.ubuntu.com/ubuntu bionic/main amd64 libldl2 amd64 1:5.1.2-2 [10.3 kB]\n",
            "Get:29 http://archive.ubuntu.com/ubuntu bionic/main amd64 libmetis-dev amd64 5.1.0.dfsg-5 [5,794 B]\n",
            "Get:30 http://archive.ubuntu.com/ubuntu bionic-updates/main amd64 libqt5opengl5-dev amd64 5.9.5+dfsg-0ubuntu2.6 [36.1 kB]\n",
            "Get:31 http://archive.ubuntu.com/ubuntu bionic-updates/main amd64 libraw16 amd64 0.18.8-1ubuntu0.3 [264 kB]\n",
            "Get:32 http://archive.ubuntu.com/ubuntu bionic/main amd64 librbio2 amd64 1:5.1.2-2 [24.0 kB]\n",
            "Get:33 http://archive.ubuntu.com/ubuntu bionic/main amd64 libspqr2 amd64 1:5.1.2-2 [64.2 kB]\n",
            "Get:34 http://archive.ubuntu.com/ubuntu bionic/main amd64 libumfpack5 amd64 1:5.1.2-2 [229 kB]\n",
            "Get:35 http://archive.ubuntu.com/ubuntu bionic/main amd64 libsuitesparse-dev amd64 1:5.1.2-2 [1,235 kB]\n",
            "Get:36 http://archive.ubuntu.com/ubuntu bionic/universe amd64 libeigen3-dev all 3.3.4-4 [810 kB]\n",
            "Get:37 http://archive.ubuntu.com/ubuntu bionic-updates/universe amd64 libfreeimage3 amd64 3.17.0+ds1-5+deb9u1build0.18.04.1 [260 kB]\n",
            "Get:38 http://archive.ubuntu.com/ubuntu bionic-updates/universe amd64 libfreeimage-dev amd64 3.17.0+ds1-5+deb9u1build0.18.04.1 [18.7 kB]\n",
            "Fetched 10.5 MB in 2s (6,837 kB/s)\n",
            "debconf: unable to initialize frontend: Dialog\n",
            "debconf: (No usable dialog-like program is installed, so the dialog based frontend cannot be used. at /usr/share/perl5/Debconf/FrontEnd/Dialog.pm line 76, <> line 38.)\n",
            "debconf: falling back to frontend: Readline\n",
            "debconf: unable to initialize frontend: Readline\n",
            "debconf: (This frontend requires a controlling tty.)\n",
            "debconf: falling back to frontend: Teletype\n",
            "dpkg-preconfigure: unable to re-open stdin: \n",
            "Selecting previously unselected package libqt5svg5:amd64.\n",
            "(Reading database ... 155632 files and directories currently installed.)\n",
            "Preparing to unpack .../00-libqt5svg5_5.9.5-0ubuntu1.1_amd64.deb ...\n",
            "Unpacking libqt5svg5:amd64 (5.9.5-0ubuntu1.1) ...\n",
            "Selecting previously unselected package libsuitesparseconfig5:amd64.\n",
            "Preparing to unpack .../01-libsuitesparseconfig5_1%3a5.1.2-2_amd64.deb ...\n",
            "Unpacking libsuitesparseconfig5:amd64 (1:5.1.2-2) ...\n",
            "Selecting previously unselected package libamd2:amd64.\n",
            "Preparing to unpack .../02-libamd2_1%3a5.1.2-2_amd64.deb ...\n",
            "Unpacking libamd2:amd64 (1:5.1.2-2) ...\n",
            "Selecting previously unselected package libbtf1:amd64.\n",
            "Preparing to unpack .../03-libbtf1_1%3a5.1.2-2_amd64.deb ...\n",
            "Unpacking libbtf1:amd64 (1:5.1.2-2) ...\n",
            "Selecting previously unselected package libcamd2:amd64.\n",
            "Preparing to unpack .../04-libcamd2_1%3a5.1.2-2_amd64.deb ...\n",
            "Unpacking libcamd2:amd64 (1:5.1.2-2) ...\n",
            "Selecting previously unselected package libccolamd2:amd64.\n",
            "Preparing to unpack .../05-libccolamd2_1%3a5.1.2-2_amd64.deb ...\n",
            "Unpacking libccolamd2:amd64 (1:5.1.2-2) ...\n",
            "Selecting previously unselected package libcgal13:amd64.\n",
            "Preparing to unpack .../06-libcgal13_4.11-2build1_amd64.deb ...\n",
            "Unpacking libcgal13:amd64 (4.11-2build1) ...\n",
            "Selecting previously unselected package libgmpxx4ldbl:amd64.\n",
            "Preparing to unpack .../07-libgmpxx4ldbl_2%3a6.1.2+dfsg-2_amd64.deb ...\n",
            "Unpacking libgmpxx4ldbl:amd64 (2:6.1.2+dfsg-2) ...\n",
            "Selecting previously unselected package libgmp-dev:amd64.\n",
            "Preparing to unpack .../08-libgmp-dev_2%3a6.1.2+dfsg-2_amd64.deb ...\n",
            "Unpacking libgmp-dev:amd64 (2:6.1.2+dfsg-2) ...\n",
            "Selecting previously unselected package libmpfr-dev:amd64.\n",
            "Preparing to unpack .../09-libmpfr-dev_4.0.1-1_amd64.deb ...\n",
            "Unpacking libmpfr-dev:amd64 (4.0.1-1) ...\n",
            "Selecting previously unselected package libcgal-dev:amd64.\n",
            "Preparing to unpack .../10-libcgal-dev_4.11-2build1_amd64.deb ...\n",
            "Unpacking libcgal-dev:amd64 (4.11-2build1) ...\n",
            "Selecting previously unselected package libqt5opengl5:amd64.\n",
            "Preparing to unpack .../11-libqt5opengl5_5.9.5+dfsg-0ubuntu2.6_amd64.deb ...\n",
            "Unpacking libqt5opengl5:amd64 (5.9.5+dfsg-0ubuntu2.6) ...\n",
            "Selecting previously unselected package libcgal-qt5-13:amd64.\n",
            "Preparing to unpack .../12-libcgal-qt5-13_4.11-2build1_amd64.deb ...\n",
            "Unpacking libcgal-qt5-13:amd64 (4.11-2build1) ...\n",
            "Selecting previously unselected package libcgal-qt5-dev:amd64.\n",
            "Preparing to unpack .../13-libcgal-qt5-dev_4.11-2build1_amd64.deb ...\n",
            "Unpacking libcgal-qt5-dev:amd64 (4.11-2build1) ...\n",
            "Selecting previously unselected package libcolamd2:amd64.\n",
            "Preparing to unpack .../14-libcolamd2_1%3a5.1.2-2_amd64.deb ...\n",
            "Unpacking libcolamd2:amd64 (1:5.1.2-2) ...\n",
            "Selecting previously unselected package libmetis5:amd64.\n",
            "Preparing to unpack .../15-libmetis5_5.1.0.dfsg-5_amd64.deb ...\n",
            "Unpacking libmetis5:amd64 (5.1.0.dfsg-5) ...\n",
            "Selecting previously unselected package libcholmod3:amd64.\n",
            "Preparing to unpack .../16-libcholmod3_1%3a5.1.2-2_amd64.deb ...\n",
            "Unpacking libcholmod3:amd64 (1:5.1.2-2) ...\n",
            "Selecting previously unselected package libcxsparse3:amd64.\n",
            "Preparing to unpack .../17-libcxsparse3_1%3a5.1.2-2_amd64.deb ...\n",
            "Unpacking libcxsparse3:amd64 (1:5.1.2-2) ...\n",
            "Selecting previously unselected package libgflags2.2.\n",
            "Preparing to unpack .../18-libgflags2.2_2.2.1-1_amd64.deb ...\n",
            "Unpacking libgflags2.2 (2.2.1-1) ...\n",
            "Selecting previously unselected package libgflags-dev.\n",
            "Preparing to unpack .../19-libgflags-dev_2.2.1-1_amd64.deb ...\n",
            "Unpacking libgflags-dev (2.2.1-1) ...\n",
            "Selecting previously unselected package libglew2.0:amd64.\n",
            "Preparing to unpack .../20-libglew2.0_2.0.0-5_amd64.deb ...\n",
            "Unpacking libglew2.0:amd64 (2.0.0-5) ...\n",
            "Selecting previously unselected package libglew-dev:amd64.\n",
            "Preparing to unpack .../21-libglew-dev_2.0.0-5_amd64.deb ...\n",
            "Unpacking libglew-dev:amd64 (2.0.0-5) ...\n",
            "Selecting previously unselected package libgoogle-glog0v5.\n",
            "Preparing to unpack .../22-libgoogle-glog0v5_0.3.5-1_amd64.deb ...\n",
            "Unpacking libgoogle-glog0v5 (0.3.5-1) ...\n",
            "Selecting previously unselected package libgoogle-glog-dev.\n",
            "Preparing to unpack .../23-libgoogle-glog-dev_0.3.5-1_amd64.deb ...\n",
            "Unpacking libgoogle-glog-dev (0.3.5-1) ...\n",
            "Selecting previously unselected package libgraphblas1:amd64.\n",
            "Preparing to unpack .../24-libgraphblas1_1%3a5.1.2-2_amd64.deb ...\n",
            "Unpacking libgraphblas1:amd64 (1:5.1.2-2) ...\n",
            "Selecting previously unselected package libjxr0:amd64.\n",
            "Preparing to unpack .../25-libjxr0_1.1-6build1_amd64.deb ...\n",
            "Unpacking libjxr0:amd64 (1.1-6build1) ...\n",
            "Selecting previously unselected package libklu1:amd64.\n",
            "Preparing to unpack .../26-libklu1_1%3a5.1.2-2_amd64.deb ...\n",
            "Unpacking libklu1:amd64 (1:5.1.2-2) ...\n",
            "Selecting previously unselected package libldl2:amd64.\n",
            "Preparing to unpack .../27-libldl2_1%3a5.1.2-2_amd64.deb ...\n",
            "Unpacking libldl2:amd64 (1:5.1.2-2) ...\n",
            "Selecting previously unselected package libmetis-dev.\n",
            "Preparing to unpack .../28-libmetis-dev_5.1.0.dfsg-5_amd64.deb ...\n",
            "Unpacking libmetis-dev (5.1.0.dfsg-5) ...\n",
            "Selecting previously unselected package libqt5opengl5-dev:amd64.\n",
            "Preparing to unpack .../29-libqt5opengl5-dev_5.9.5+dfsg-0ubuntu2.6_amd64.deb ...\n",
            "Unpacking libqt5opengl5-dev:amd64 (5.9.5+dfsg-0ubuntu2.6) ...\n",
            "Selecting previously unselected package libraw16:amd64.\n",
            "Preparing to unpack .../30-libraw16_0.18.8-1ubuntu0.3_amd64.deb ...\n",
            "Unpacking libraw16:amd64 (0.18.8-1ubuntu0.3) ...\n",
            "Selecting previously unselected package librbio2:amd64.\n",
            "Preparing to unpack .../31-librbio2_1%3a5.1.2-2_amd64.deb ...\n",
            "Unpacking librbio2:amd64 (1:5.1.2-2) ...\n",
            "Selecting previously unselected package libspqr2:amd64.\n",
            "Preparing to unpack .../32-libspqr2_1%3a5.1.2-2_amd64.deb ...\n",
            "Unpacking libspqr2:amd64 (1:5.1.2-2) ...\n",
            "Selecting previously unselected package libumfpack5:amd64.\n",
            "Preparing to unpack .../33-libumfpack5_1%3a5.1.2-2_amd64.deb ...\n",
            "Unpacking libumfpack5:amd64 (1:5.1.2-2) ...\n",
            "Selecting previously unselected package libsuitesparse-dev:amd64.\n",
            "Preparing to unpack .../34-libsuitesparse-dev_1%3a5.1.2-2_amd64.deb ...\n",
            "Unpacking libsuitesparse-dev:amd64 (1:5.1.2-2) ...\n",
            "Selecting previously unselected package libeigen3-dev.\n",
            "Preparing to unpack .../35-libeigen3-dev_3.3.4-4_all.deb ...\n",
            "Unpacking libeigen3-dev (3.3.4-4) ...\n",
            "Selecting previously unselected package libfreeimage3:amd64.\n",
            "Preparing to unpack .../36-libfreeimage3_3.17.0+ds1-5+deb9u1build0.18.04.1_amd64.deb ...\n",
            "Unpacking libfreeimage3:amd64 (3.17.0+ds1-5+deb9u1build0.18.04.1) ...\n",
            "Selecting previously unselected package libfreeimage-dev.\n",
            "Preparing to unpack .../37-libfreeimage-dev_3.17.0+ds1-5+deb9u1build0.18.04.1_amd64.deb ...\n",
            "Unpacking libfreeimage-dev (3.17.0+ds1-5+deb9u1build0.18.04.1) ...\n",
            "Setting up libbtf1:amd64 (1:5.1.2-2) ...\n",
            "Setting up libldl2:amd64 (1:5.1.2-2) ...\n",
            "Setting up libcxsparse3:amd64 (1:5.1.2-2) ...\n",
            "Setting up libgflags2.2 (2.2.1-1) ...\n",
            "Setting up libgflags-dev (2.2.1-1) ...\n",
            "Setting up libeigen3-dev (3.3.4-4) ...\n",
            "Setting up libgraphblas1:amd64 (1:5.1.2-2) ...\n",
            "Setting up libqt5opengl5:amd64 (5.9.5+dfsg-0ubuntu2.6) ...\n",
            "Setting up libjxr0:amd64 (1.1-6build1) ...\n",
            "Setting up libgoogle-glog0v5 (0.3.5-1) ...\n",
            "Setting up libqt5svg5:amd64 (5.9.5-0ubuntu1.1) ...\n",
            "Setting up libsuitesparseconfig5:amd64 (1:5.1.2-2) ...\n",
            "Setting up libmetis5:amd64 (5.1.0.dfsg-5) ...\n",
            "Setting up libcolamd2:amd64 (1:5.1.2-2) ...\n",
            "Setting up libglew2.0:amd64 (2.0.0-5) ...\n",
            "Setting up libccolamd2:amd64 (1:5.1.2-2) ...\n",
            "Setting up libcgal13:amd64 (4.11-2build1) ...\n",
            "Setting up libgmpxx4ldbl:amd64 (2:6.1.2+dfsg-2) ...\n",
            "Setting up libglew-dev:amd64 (2.0.0-5) ...\n",
            "Setting up libraw16:amd64 (0.18.8-1ubuntu0.3) ...\n",
            "Setting up libcgal-qt5-13:amd64 (4.11-2build1) ...\n",
            "Setting up libgmp-dev:amd64 (2:6.1.2+dfsg-2) ...\n",
            "Setting up libfreeimage3:amd64 (3.17.0+ds1-5+deb9u1build0.18.04.1) ...\n",
            "Setting up librbio2:amd64 (1:5.1.2-2) ...\n",
            "Setting up libcamd2:amd64 (1:5.1.2-2) ...\n",
            "Setting up libmetis-dev (5.1.0.dfsg-5) ...\n",
            "Setting up libgoogle-glog-dev (0.3.5-1) ...\n",
            "Setting up libqt5opengl5-dev:amd64 (5.9.5+dfsg-0ubuntu2.6) ...\n",
            "Setting up libamd2:amd64 (1:5.1.2-2) ...\n",
            "Setting up libfreeimage-dev (3.17.0+ds1-5+deb9u1build0.18.04.1) ...\n",
            "Setting up libmpfr-dev:amd64 (4.0.1-1) ...\n",
            "Setting up libklu1:amd64 (1:5.1.2-2) ...\n",
            "Setting up libcgal-dev:amd64 (4.11-2build1) ...\n",
            "Setting up libcholmod3:amd64 (1:5.1.2-2) ...\n",
            "Setting up libspqr2:amd64 (1:5.1.2-2) ...\n",
            "Setting up libcgal-qt5-dev:amd64 (4.11-2build1) ...\n",
            "Setting up libumfpack5:amd64 (1:5.1.2-2) ...\n",
            "Setting up libsuitesparse-dev:amd64 (1:5.1.2-2) ...\n",
            "Processing triggers for libc-bin (2.27-3ubuntu1.3) ...\n",
            "/sbin/ldconfig.real: /usr/local/lib/python3.7/dist-packages/ideep4py/lib/libmkldnn.so.0 is not a symbolic link\n",
            "\n",
            "Processing triggers for man-db (2.8.3-2ubuntu0.1) ...\n"
          ]
        }
      ]
    },
    {
      "cell_type": "markdown",
      "metadata": {
        "id": "yptHICvs1evY"
      },
      "source": [
        "## Install Ceres-solver (takes 10~20 minutes...)"
      ]
    },
    {
      "cell_type": "code",
      "metadata": {
        "id": "gAwEYpOk0Irw",
        "colab": {
          "base_uri": "https://localhost:8080/"
        },
        "outputId": "8a074ba8-1c93-4ca4-b4a4-8b0de84e4cd7"
      },
      "source": [
        "!sudo apt-get install libatlas-base-dev libsuitesparse-dev\n",
        "!git clone https://ceres-solver.googlesource.com/ceres-solver\n",
        "%cd ceres-solver\n",
        "!git checkout 2.0.0# Checkout the latest release\n",
        "%mkdir build\n",
        "%cd build\n",
        "!cmake .. -DBUILD_TESTING=OFF -DBUILD_EXAMPLES=OFF\n",
        "!make\n",
        "!sudo make install"
      ],
      "execution_count": 1,
      "outputs": [
        {
          "output_type": "stream",
          "name": "stdout",
          "text": [
            "Reading package lists... Done\n",
            "Building dependency tree       \n",
            "Reading state information... Done\n",
            "libsuitesparse-dev is already the newest version (1:5.1.2-2).\n",
            "libatlas-base-dev is already the newest version (3.10.3-5).\n",
            "The following package was automatically installed and is no longer required:\n",
            "  libnvidia-common-460\n",
            "Use 'sudo apt autoremove' to remove it.\n",
            "0 upgraded, 0 newly installed, 0 to remove and 45 not upgraded.\n",
            "fatal: destination path 'ceres-solver' already exists and is not an empty directory.\n",
            "/content/ceres-solver\n",
            "error: pathspec '2.0.0#' did not match any file(s) known to git.\n",
            "error: pathspec 'Checkout' did not match any file(s) known to git.\n",
            "error: pathspec 'the' did not match any file(s) known to git.\n",
            "error: pathspec 'latest' did not match any file(s) known to git.\n",
            "error: pathspec 'release' did not match any file(s) known to git.\n",
            "mkdir: cannot create directory ‘build’: File exists\n",
            "/content/ceres-solver/build\n",
            "-- Detected Ceres version: 2.2.0 from /content/ceres-solver/include/ceres/version.h\n",
            "\u001b[0m-- Detected available Ceres threading models: [CXX_THREADS, OPENMP, NO_THREADS]\u001b[0m\n",
            "\u001b[0m-- Found Eigen version 3.3.4: /usr/lib/cmake/eigen3\u001b[0m\n",
            "\u001b[0m-- Enabling use of Eigen as a sparse linear algebra library.\u001b[0m\n",
            "\u001b[0m-- Found CUDA version 11.1: /usr/local/cuda/lib64/libcudart_static.a;Threads::Threads;dl;/usr/lib/x86_64-linux-gnu/librt.so;/usr/local/cuda/lib64/libcusolver.so;/usr/local/cuda/lib64/libcusparse.so\u001b[0m\n",
            "\u001b[0m-- Found LAPACK library: /usr/local/lib/libmkl_intel_lp64.so;/usr/local/lib/libmkl_intel_thread.so;/usr/local/lib/libmkl_core.so;/usr/local/lib/libiomp5.so;-lpthread;-lm;-ldl;-lpthread;-lm;-ldl\u001b[0m\n",
            "-- Found CHOLMOD headers in: /usr/include/suitesparse\n",
            "-- Found CHOLMOD library: /usr/lib/x86_64-linux-gnu/libcholmod.so\n",
            "-- Found SPQR headers in: /usr/include/suitesparse\n",
            "-- Found SPQR library: /usr/lib/x86_64-linux-gnu/libspqr.so\n",
            "-- Found Config headers in: /usr/include/suitesparse\n",
            "-- Found Config library: /usr/lib/x86_64-linux-gnu/libsuitesparseconfig.so\n",
            "-- Found AMD headers in: /usr/include/suitesparse\n",
            "-- Found AMD library: /usr/lib/x86_64-linux-gnu/libamd.so\n",
            "-- Found CAMD headers in: /usr/include/suitesparse\n",
            "-- Found CAMD library: /usr/lib/x86_64-linux-gnu/libcamd.so\n",
            "-- Found CCOLAMD headers in: /usr/include/suitesparse\n",
            "-- Found CCOLAMD library: /usr/lib/x86_64-linux-gnu/libccolamd.so\n",
            "-- Found COLAMD headers in: /usr/include/suitesparse\n",
            "-- Found COLAMD library: /usr/lib/x86_64-linux-gnu/libcolamd.so\n",
            "-- Found Intel Thread Building Blocks (TBB) library (2017.0 / 9107) include location: /usr/include. Assuming SuiteSparseQR was compiled with TBB.\n",
            "-- Adding librt to SuiteSparse_config libraries (required on Linux & Unix [not OSX] if SuiteSparse is compiled with timing).\n",
            "\u001b[0m-- Found SuiteSparse 5.1.2, building with SuiteSparse.\u001b[0m\n",
            "\u001b[0m-- Building without Apple's Accelerate sparse support.\u001b[0m\n",
            "\u001b[0m-- Found Google Flags (gflags) version 2.2.1: /usr/lib/x86_64-linux-gnu/cmake/gflags\u001b[0m\n",
            "-- No preference for use of exported glog CMake configuration set, and no hints for include/library directories provided. Defaulting to preferring an installed/exported glog CMake configuration if available.\n",
            "-- Failed to find installed glog CMake configuration, searching for glog build directories exported with CMake.\n",
            "-- Failed to find an installed/exported CMake configuration for glog, will perform search for installed glog components.\n",
            "\u001b[0m-- Found Google Log (glog). Assuming glog was built with gflags support as gflags was found. This will make gflags a public dependency of Ceres.\u001b[0m\n",
            "\u001b[0m-- Using Ceres threading model: CXX_THREADS\u001b[0m\n",
            "\u001b[0m-- Building Ceres as a static library.\u001b[0m\n",
            "-- Enabling CERES_USE_EIGEN_SPARSE in Ceres config.h\n",
            "-- Enabling CERES_NO_ACCELERATE_SPARSE in Ceres config.h\n",
            "-- Enabling CERES_USE_CXX_THREADS in Ceres config.h\n",
            "\u001b[0m-- Do not build any example.\u001b[0m\n",
            "-- Configuring done\n",
            "-- Generating done\n",
            "-- Build files have been written to: /content/ceres-solver/build\n",
            "\u001b[35m\u001b[1mConsolidate compiler generated dependencies of target ceres_internal\u001b[0m\n",
            "[ 93%] Built target ceres_internal\n",
            "\u001b[35m\u001b[1mConsolidate compiler generated dependencies of target ceres\u001b[0m\n",
            "[100%] Built target ceres\n",
            "[ 93%] Built target ceres_internal\n",
            "[100%] Built target ceres\n",
            "\u001b[36mInstall the project...\u001b[0m\n",
            "-- Install configuration: \"Release\"\n",
            "-- Up-to-date: /usr/local/lib/cmake/Ceres/FindSuiteSparse.cmake\n",
            "-- Up-to-date: /usr/local/lib/cmake/Ceres/FindMETIS.cmake\n",
            "-- Up-to-date: /usr/local/include/ceres/autodiff_cost_function.h\n",
            "-- Up-to-date: /usr/local/include/ceres/autodiff_first_order_function.h\n",
            "-- Up-to-date: /usr/local/include/ceres/autodiff_local_parameterization.h\n",
            "-- Up-to-date: /usr/local/include/ceres/autodiff_manifold.h\n",
            "-- Up-to-date: /usr/local/include/ceres/c_api.h\n",
            "-- Up-to-date: /usr/local/include/ceres/ceres.h\n",
            "-- Up-to-date: /usr/local/include/ceres/conditioned_cost_function.h\n",
            "-- Up-to-date: /usr/local/include/ceres/context.h\n",
            "-- Up-to-date: /usr/local/include/ceres/cost_function.h\n",
            "-- Up-to-date: /usr/local/include/ceres/cost_function_to_functor.h\n",
            "-- Up-to-date: /usr/local/include/ceres/covariance.h\n",
            "-- Up-to-date: /usr/local/include/ceres/crs_matrix.h\n",
            "-- Up-to-date: /usr/local/include/ceres/cubic_interpolation.h\n",
            "-- Up-to-date: /usr/local/include/ceres/dynamic_autodiff_cost_function.h\n",
            "-- Up-to-date: /usr/local/include/ceres/dynamic_cost_function.h\n",
            "-- Up-to-date: /usr/local/include/ceres/dynamic_cost_function_to_functor.h\n",
            "-- Up-to-date: /usr/local/include/ceres/dynamic_numeric_diff_cost_function.h\n",
            "-- Up-to-date: /usr/local/include/ceres/evaluation_callback.h\n",
            "-- Up-to-date: /usr/local/include/ceres/first_order_function.h\n",
            "-- Up-to-date: /usr/local/include/ceres/gradient_checker.h\n",
            "-- Up-to-date: /usr/local/include/ceres/gradient_problem.h\n",
            "-- Up-to-date: /usr/local/include/ceres/gradient_problem_solver.h\n",
            "-- Up-to-date: /usr/local/include/ceres/iteration_callback.h\n",
            "-- Up-to-date: /usr/local/include/ceres/jet.h\n",
            "-- Up-to-date: /usr/local/include/ceres/jet_fwd.h\n",
            "-- Up-to-date: /usr/local/include/ceres/line_manifold.h\n",
            "-- Up-to-date: /usr/local/include/ceres/local_parameterization.h\n",
            "-- Up-to-date: /usr/local/include/ceres/loss_function.h\n",
            "-- Up-to-date: /usr/local/include/ceres/manifold.h\n",
            "-- Up-to-date: /usr/local/include/ceres/manifold_test_utils.h\n",
            "-- Up-to-date: /usr/local/include/ceres/normal_prior.h\n",
            "-- Up-to-date: /usr/local/include/ceres/numeric_diff_cost_function.h\n",
            "-- Up-to-date: /usr/local/include/ceres/numeric_diff_first_order_function.h\n",
            "-- Up-to-date: /usr/local/include/ceres/numeric_diff_options.h\n",
            "-- Up-to-date: /usr/local/include/ceres/ordered_groups.h\n",
            "-- Up-to-date: /usr/local/include/ceres/problem.h\n",
            "-- Up-to-date: /usr/local/include/ceres/product_manifold.h\n",
            "-- Up-to-date: /usr/local/include/ceres/rotation.h\n",
            "-- Up-to-date: /usr/local/include/ceres/sized_cost_function.h\n",
            "-- Up-to-date: /usr/local/include/ceres/solver.h\n",
            "-- Up-to-date: /usr/local/include/ceres/sphere_manifold.h\n",
            "-- Up-to-date: /usr/local/include/ceres/tiny_solver.h\n",
            "-- Up-to-date: /usr/local/include/ceres/tiny_solver_autodiff_function.h\n",
            "-- Up-to-date: /usr/local/include/ceres/tiny_solver_cost_function_adapter.h\n",
            "-- Up-to-date: /usr/local/include/ceres/types.h\n",
            "-- Up-to-date: /usr/local/include/ceres/version.h\n",
            "-- Up-to-date: /usr/local/include/ceres/internal/array_selector.h\n",
            "-- Up-to-date: /usr/local/include/ceres/internal/autodiff.h\n",
            "-- Up-to-date: /usr/local/include/ceres/internal/disable_warnings.h\n",
            "-- Up-to-date: /usr/local/include/ceres/internal/eigen.h\n",
            "-- Up-to-date: /usr/local/include/ceres/internal/fixed_array.h\n",
            "-- Up-to-date: /usr/local/include/ceres/internal/householder_vector.h\n",
            "-- Up-to-date: /usr/local/include/ceres/internal/integer_sequence_algorithm.h\n",
            "-- Up-to-date: /usr/local/include/ceres/internal/jet_traits.h\n",
            "-- Up-to-date: /usr/local/include/ceres/internal/line_parameterization.h\n",
            "-- Up-to-date: /usr/local/include/ceres/internal/memory.h\n",
            "-- Up-to-date: /usr/local/include/ceres/internal/numeric_diff.h\n",
            "-- Up-to-date: /usr/local/include/ceres/internal/parameter_dims.h\n",
            "-- Up-to-date: /usr/local/include/ceres/internal/port.h\n",
            "-- Up-to-date: /usr/local/include/ceres/internal/reenable_warnings.h\n",
            "-- Up-to-date: /usr/local/include/ceres/internal/sphere_manifold_functions.h\n",
            "-- Up-to-date: /usr/local/include/ceres/internal/variadic_evaluate.h\n",
            "-- Up-to-date: /usr/local/include\n",
            "-- Up-to-date: /usr/local/include/ceres\n",
            "-- Up-to-date: /usr/local/include/ceres/internal\n",
            "-- Up-to-date: /usr/local/include/ceres/internal/export.h\n",
            "-- Up-to-date: /usr/local/include/ceres/internal/config.h\n",
            "-- Up-to-date: /usr/local/lib/cmake/Ceres/CeresTargets.cmake\n",
            "-- Up-to-date: /usr/local/lib/cmake/Ceres/CeresTargets-release.cmake\n",
            "-- Up-to-date: /usr/local/lib/cmake/Ceres/CeresConfig.cmake\n",
            "-- Up-to-date: /usr/local/lib/cmake/Ceres/CeresConfigVersion.cmake\n",
            "-- Up-to-date: /usr/local/lib/cmake/Ceres/FindGlog.cmake\n",
            "-- Up-to-date: /usr/local/lib/libceres.a\n"
          ]
        }
      ]
    },
    {
      "cell_type": "markdown",
      "metadata": {
        "id": "lmePvOPY3dof"
      },
      "source": [
        "## Install colmap (takes another 10~20 minutes...)"
      ]
    },
    {
      "cell_type": "code",
      "metadata": {
        "id": "gKTtduYW3LpH",
        "colab": {
          "base_uri": "https://localhost:8080/"
        },
        "outputId": "da33d4ed-7756-4a4d-87c2-6a2dc6676113"
      },
      "source": [
        "!git clone https://github.com/colmap/colmap\n",
        "%cd colmap\n",
        "!git checkout dev\n",
        "%mkdir build\n",
        "%cd build\n",
        "!cmake ..\n",
        "!make\n",
        "!sudo make install\n",
        "!CC=/usr/bin/gcc-6 CXX=/usr/bin/g++-6 cmake .."
      ],
      "execution_count": null,
      "outputs": [
        {
          "output_type": "stream",
          "name": "stdout",
          "text": [
            "fatal: destination path 'colmap' already exists and is not an empty directory.\n",
            "/content/ceres-solver/build/colmap\n",
            "Already on 'dev'\n",
            "Your branch is up to date with 'origin/dev'.\n",
            "mkdir: cannot create directory ‘build’: File exists\n",
            "/content/ceres-solver/build/colmap/build\n",
            "-- Found AMD headers in: /usr/include/suitesparse\n",
            "-- Found AMD library: /usr/lib/x86_64-linux-gnu/libamd.so\n",
            "-- Found CAMD headers in: /usr/include/suitesparse\n",
            "-- Found CAMD library: /usr/lib/x86_64-linux-gnu/libcamd.so\n",
            "-- Found CCOLAMD headers in: /usr/include/suitesparse\n",
            "-- Found CCOLAMD library: /usr/lib/x86_64-linux-gnu/libccolamd.so\n",
            "-- Found CHOLMOD headers in: /usr/include/suitesparse\n",
            "-- Found CHOLMOD library: /usr/lib/x86_64-linux-gnu/libcholmod.so\n",
            "-- Found COLAMD headers in: /usr/include/suitesparse\n",
            "-- Found COLAMD library: /usr/lib/x86_64-linux-gnu/libcolamd.so\n",
            "-- Found SPQR headers in: /usr/include/suitesparse\n",
            "-- Found SPQR library: /usr/lib/x86_64-linux-gnu/libspqr.so\n",
            "-- Found Config headers in: /usr/include/suitesparse\n",
            "-- Found Config library: /usr/lib/x86_64-linux-gnu/libsuitesparseconfig.so\n",
            "-- Did not find Intel TBB library, assuming SuiteSparseQR was not compiled with TBB.\n",
            "-- Adding librt to SuiteSparse_config libraries (required on Linux & Unix [not OSX] if SuiteSparse is compiled with timing).\n",
            "-- Found required Ceres dependency: Eigen version 3.3.4 in /usr/lib/cmake/eigen3\n",
            "-- Found required Ceres dependency: glog\n",
            "-- Found required Ceres dependency: gflags\n",
            "-- Found Ceres version: 2.2.0 installed in: /usr/local with components: [EigenSparse, SparseLinearAlgebraLibrary, LAPACK, SuiteSparse, SchurSpecializations, Multithreading]\n",
            "-- Found Eigen\n",
            "--   Includes : /usr/include/eigen3\n",
            "-- Found FreeImage\n",
            "--   Includes : /usr/include\n",
            "--   Libraries : /usr/lib/x86_64-linux-gnu/libfreeimage.so\n",
            "-- Found Metis\n",
            "--   Includes : /usr/include\n",
            "--   Libraries : /usr/lib/x86_64-linux-gnu/libmetis.so\n",
            "-- Found Glog\n",
            "--   Includes : /usr/include\n",
            "--   Libraries : /usr/lib/x86_64-linux-gnu/libglog.so\n",
            "-- Found Glew\n",
            "--   Includes : /usr/include\n",
            "--   Libraries : /usr/lib/x86_64-linux-gnu/libGLEW.so\n",
            "-- Found Qt\n",
            "--   Module : /usr/lib/x86_64-linux-gnu/cmake/Qt5Core\n",
            "--   Module : /usr/lib/x86_64-linux-gnu/cmake/Qt5OpenGL\n",
            "--   Module : /usr/lib/x86_64-linux-gnu/cmake/Qt5Widgets\n",
            "-- Found CGAL\n",
            "--   Includes : /usr//include\n",
            "--   Libraries : /usr/lib/x86_64-linux-gnu/libCGAL.so.13.0.1\n",
            "-- Build type not specified, using Release\n",
            "-- Enabling SIMD support\n",
            "-- Enabling OpenMP support\n",
            "-- Disabling interprocedural optimization\n",
            "-- Autodetected CUDA architecture(s):  6.0\n",
            "-- Enabling CUDA support (version: 11.1, archs: sm_60)\n",
            "-- Enabling GUI support\n",
            "-- Enabling OpenGL support\n",
            "-- Disabling ccache support\n",
            "-- Disabling profiling support\n",
            "-- Enabling CGAL support\n",
            "-- Configuring done\n",
            "-- Generating done\n",
            "-- Build files have been written to: /content/ceres-solver/build/colmap/build\n",
            "\u001b[35m\u001b[1mConsolidate compiler generated dependencies of target flann\u001b[0m\n",
            "[  2%] Built target flann\n",
            "\u001b[35m\u001b[1mConsolidate compiler generated dependencies of target lsd\u001b[0m\n",
            "[  2%] Built target lsd\n",
            "[  2%] \u001b[34m\u001b[1mBuilding NVCC (Device) object lib/PBA/CMakeFiles/pba.dir/pba_generated_ProgramCU.cu.o\u001b[0m\n",
            "\u001b[35m\u001b[1mConsolidate compiler generated dependencies of target pba\u001b[0m\n",
            "[  2%] \u001b[32m\u001b[1mLinking CXX static library libpba.a\u001b[0m\n",
            "[  6%] Built target pba\n",
            "\u001b[35m\u001b[1mConsolidate compiler generated dependencies of target poisson_recon\u001b[0m\n",
            "[  9%] Built target poisson_recon\n",
            "[ 11%] \u001b[34m\u001b[1mBuilding NVCC (Device) object lib/SiftGPU/CMakeFiles/sift_gpu.dir/sift_gpu_generated_ProgramCU.cu.o\u001b[0m\n",
            "\u001b[35m\u001b[1mConsolidate compiler generated dependencies of target sift_gpu\u001b[0m\n",
            "[ 11%] \u001b[32m\u001b[1mLinking CXX static library libsift_gpu.a\u001b[0m\n",
            "[ 15%] Built target sift_gpu\n",
            "\u001b[35m\u001b[1mConsolidate compiler generated dependencies of target sqlite3\u001b[0m\n",
            "[ 18%] Built target sqlite3\n",
            "\u001b[35m\u001b[1mConsolidate compiler generated dependencies of target vlfeat\u001b[0m\n",
            "[ 36%] Built target vlfeat\n",
            "[ 36%] \u001b[34m\u001b[1mBuilding NVCC (Device) object src/CMakeFiles/colmap_cuda.dir/mvs/colmap_cuda_generated_patch_match_cuda.cu.o\u001b[0m\n"
          ]
        }
      ]
    },
    {
      "cell_type": "code",
      "source": [
        "from google.colab import drive\n",
        "drive.mount('/content/drive')"
      ],
      "metadata": {
        "id": "ZrrX-Gba5lGB",
        "outputId": "99e65f1d-6255-442b-a55a-1f44cb2c4a23",
        "colab": {
          "base_uri": "https://localhost:8080/"
        }
      },
      "execution_count": 4,
      "outputs": [
        {
          "output_type": "stream",
          "name": "stdout",
          "text": [
            "Mounted at /content/drive\n"
          ]
        }
      ]
    },
    {
      "cell_type": "markdown",
      "metadata": {
        "id": "AH2TnXfE8rCV"
      },
      "source": [
        "Next, we need to prepare the images to run colmap.\n",
        "First, create a folder in your google drive and a subfolder named `images`, and put your images inside."
      ]
    },
    {
      "cell_type": "markdown",
      "metadata": {
        "id": "GqVrYev0313H"
      },
      "source": [
        "## Mount your drive (to access data)"
      ]
    },
    {
      "cell_type": "code",
      "metadata": {
        "id": "4rH78spM2Rn-",
        "colab": {
          "base_uri": "https://localhost:8080/"
        },
        "outputId": "bec28818-6f83-406b-d709-04bfc03bd366"
      },
      "source": [
        "from google.colab import drive\n",
        "drive.mount('/content/drive/', force_remount=True)"
      ],
      "execution_count": null,
      "outputs": [
        {
          "output_type": "stream",
          "name": "stdout",
          "text": [
            "Mounted at /content/drive/\n"
          ]
        }
      ]
    },
    {
      "cell_type": "markdown",
      "metadata": {
        "id": "0QbTfCds1yy_"
      },
      "source": [
        "## Clone LLFF util"
      ]
    },
    {
      "cell_type": "code",
      "metadata": {
        "id": "QTt2JDhV0QQA",
        "colab": {
          "base_uri": "https://localhost:8080/"
        },
        "outputId": "1e0d6664-1b0a-4860-d98d-e3f8a27b8150"
      },
      "source": [
        "%cd /content\n",
        "!git clone https://github.com/Fyusion/LLFF"
      ],
      "execution_count": null,
      "outputs": [
        {
          "output_type": "stream",
          "name": "stdout",
          "text": [
            "/content\n",
            "Cloning into 'LLFF'...\n",
            "remote: Enumerating objects: 774, done.\u001b[K\n",
            "remote: Counting objects: 100% (26/26), done.\u001b[K\n",
            "remote: Compressing objects: 100% (21/21), done.\u001b[K\n",
            "remote: Total 774 (delta 7), reused 20 (delta 5), pack-reused 748\u001b[K\n",
            "Receiving objects: 100% (774/774), 31.94 MiB | 26.17 MiB/s, done.\n",
            "Resolving deltas: 100% (409/409), done.\n"
          ]
        }
      ]
    },
    {
      "cell_type": "markdown",
      "metadata": {
        "id": "Zvxe5vDL7blW"
      },
      "source": [
        "# Run COLMAP! (depending on number of images, this takes 10~20 minutes)"
      ]
    },
    {
      "cell_type": "code",
      "metadata": {
        "id": "d9ryuCQt2hEv",
        "colab": {
          "base_uri": "https://localhost:8080/"
        },
        "outputId": "4d06d37a-bcd1-4caa-e99e-a76388ec219b"
      },
      "source": [
        "# %cd /content/LLFF\n",
        "# # change the path below to your data folder (the folder containing the `images` folder)\n",
        "# !python imgs2poses.py \"/content/drive/My Drive/brighton/\"\n",
        "\n",
        "# The project folder must contain a folder \"images\" with all the images.\n",
        "!DATASET_PATH=/content/drive/MyDrive/brighton\n",
        "\n",
        "!colmap feature_extractor \\\n",
        " --database_path $DATASET_PATH/database.db \\\n",
        "  --image_path $DATASET_PATH/images\n",
        "\n",
        "!colmap exhaustive_matcher \\\n",
        "  --database_path $DATASET_PATH/database.db\n",
        "\n",
        "!mkdir $DATASET_PATH/sparse\n",
        "\n",
        "!colmap mapper \\\n",
        "   --database_path $DATASET_PATH/database.db \\\n",
        "   --image_path $DATASET_PATH/images \\\n",
        "   --output_path $DATASET_PATH/sparse\n",
        "\n",
        "!mkdir $DATASET_PATH/dense\n",
        "\n",
        "!colmap image_undistorter \\\n",
        "   --image_path $DATASET_PATH/images \\\n",
        "   --input_path $DATASET_PATH/sparse/0 \\\n",
        "   --output_path $DATASET_PATH/dense \\\n",
        "   --output_type COLMAP \\\n",
        "   --max_image_size 2000\n",
        "\n",
        "!colmap patch_match_stereo \\\n",
        "   --workspace_path $DATASET_PATH/dense \\\n",
        "   --workspace_format COLMAP \\\n",
        "   --PatchMatchStereo.geom_consistency true\n",
        "\n",
        "!colmap stereo_fusion \\\n",
        "   --workspace_path $DATASET_PATH/dense \\\n",
        "   --workspace_format COLMAP \\\n",
        "   --input_type geometric \\\n",
        "   --output_path $DATASET_PATH/dense/fused.ply\n",
        "\n",
        "!colmap poisson_mesher \\\n",
        "   --input_path $DATASET_PATH/dense/fused.ply \\\n",
        "   --output_path $DATASET_PATH/dense/meshed-poisson.ply\n",
        "\n",
        "!colmap delaunay_mesher \\\n",
        "   --input_path $DATASET_PATH/dense \\\n",
        "   --output_path $DATASET_PATH/dense/meshed-delaunay.ply\n"
      ],
      "execution_count": 5,
      "outputs": [
        {
          "output_type": "stream",
          "name": "stdout",
          "text": [
            "/bin/bash: colmap: command not found\n",
            "/bin/bash: colmap: command not found\n",
            "/bin/bash: colmap: command not found\n",
            "/bin/bash: colmap: command not found\n",
            "/bin/bash: colmap: command not found\n",
            "/bin/bash: colmap: command not found\n",
            "/bin/bash: colmap: command not found\n",
            "/bin/bash: colmap: command not found\n"
          ]
        }
      ]
    },
    {
      "cell_type": "markdown",
      "metadata": {
        "id": "MLP3_P9q8M9d"
      },
      "source": [
        "After running colmap, you will get a `poses_bounds.npy` file under your data folder, once you got that, you're ready to train!"
      ]
    },
    {
      "cell_type": "code",
      "source": [
        "# Display mesh .ply \n",
        "! pip install open3d-python\n",
        "import numpy as np\n",
        "from open3d import *\n",
        "cloud_poisson = read_point_cloud(\"meshed-poisson.ply\") # Read the point cloud\n",
        "cloud_delaunay = read_point_cloud(\"meshed-delaunay.ply\") # Read the point cloud\n",
        "cloud_fused = read_point_cloud(\"fused.ply\")\n",
        "\n",
        "draw_geometries([cloud_poisson]) # Visualize the poisson point cloud   \n",
        "\n",
        "\n"
      ],
      "metadata": {
        "id": "zrvPGaFDqHd3"
      },
      "execution_count": null,
      "outputs": []
    }
  ]
}